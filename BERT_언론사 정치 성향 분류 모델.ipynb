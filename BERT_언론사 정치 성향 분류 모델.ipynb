{
  "nbformat": 4,
  "nbformat_minor": 0,
  "metadata": {
    "kernelspec": {
      "language": "python",
      "display_name": "Python 3",
      "name": "python3"
    },
    "language_info": {
      "pygments_lexer": "ipython3",
      "nbconvert_exporter": "python",
      "version": "3.6.4",
      "file_extension": ".py",
      "codemirror_mode": {
        "name": "ipython",
        "version": 3
      },
      "name": "python",
      "mimetype": "text/x-python"
    },
    "colab": {
      "name": "BERT Model.ipynb",
      "provenance": [],
      "collapsed_sections": [],
      "machine_shape": "hm"
    },
    "accelerator": "GPU"
  },
  "cells": [
    {
      "cell_type": "code",
      "metadata": {
        "trusted": true,
        "id": "4GwVrv3RbDEh"
      },
      "source": [
        "# We will use the official tokenization script created by the Google team\n",
        "!wget --quiet https://raw.githubusercontent.com/tensorflow/models/master/official/nlp/bert/tokenization.py"
      ],
      "execution_count": 1,
      "outputs": []
    },
    {
      "cell_type": "code",
      "metadata": {
        "id": "bBtRRJ04cNF0",
        "colab": {
          "base_uri": "https://localhost:8080/"
        },
        "outputId": "9886721e-5147-47b5-ef50-2194e16349e3"
      },
      "source": [
        "!pip install sentencepiece"
      ],
      "execution_count": 2,
      "outputs": [
        {
          "output_type": "stream",
          "text": [
            "Collecting sentencepiece\n",
            "\u001b[?25l  Downloading https://files.pythonhosted.org/packages/f5/99/e0808cb947ba10f575839c43e8fafc9cc44e4a7a2c8f79c60db48220a577/sentencepiece-0.1.95-cp37-cp37m-manylinux2014_x86_64.whl (1.2MB)\n",
            "\r\u001b[K     |▎                               | 10kB 20.3MB/s eta 0:00:01\r\u001b[K     |▌                               | 20kB 28.8MB/s eta 0:00:01\r\u001b[K     |▉                               | 30kB 33.4MB/s eta 0:00:01\r\u001b[K     |█                               | 40kB 22.4MB/s eta 0:00:01\r\u001b[K     |█▍                              | 51kB 16.3MB/s eta 0:00:01\r\u001b[K     |█▋                              | 61kB 14.9MB/s eta 0:00:01\r\u001b[K     |██                              | 71kB 13.0MB/s eta 0:00:01\r\u001b[K     |██▏                             | 81kB 13.7MB/s eta 0:00:01\r\u001b[K     |██▌                             | 92kB 13.5MB/s eta 0:00:01\r\u001b[K     |██▊                             | 102kB 12.7MB/s eta 0:00:01\r\u001b[K     |███                             | 112kB 12.7MB/s eta 0:00:01\r\u001b[K     |███▎                            | 122kB 12.7MB/s eta 0:00:01\r\u001b[K     |███▌                            | 133kB 12.7MB/s eta 0:00:01\r\u001b[K     |███▉                            | 143kB 12.7MB/s eta 0:00:01\r\u001b[K     |████                            | 153kB 12.7MB/s eta 0:00:01\r\u001b[K     |████▍                           | 163kB 12.7MB/s eta 0:00:01\r\u001b[K     |████▋                           | 174kB 12.7MB/s eta 0:00:01\r\u001b[K     |█████                           | 184kB 12.7MB/s eta 0:00:01\r\u001b[K     |█████▏                          | 194kB 12.7MB/s eta 0:00:01\r\u001b[K     |█████▌                          | 204kB 12.7MB/s eta 0:00:01\r\u001b[K     |█████▊                          | 215kB 12.7MB/s eta 0:00:01\r\u001b[K     |██████                          | 225kB 12.7MB/s eta 0:00:01\r\u001b[K     |██████▎                         | 235kB 12.7MB/s eta 0:00:01\r\u001b[K     |██████▌                         | 245kB 12.7MB/s eta 0:00:01\r\u001b[K     |██████▉                         | 256kB 12.7MB/s eta 0:00:01\r\u001b[K     |███████                         | 266kB 12.7MB/s eta 0:00:01\r\u001b[K     |███████▍                        | 276kB 12.7MB/s eta 0:00:01\r\u001b[K     |███████▋                        | 286kB 12.7MB/s eta 0:00:01\r\u001b[K     |████████                        | 296kB 12.7MB/s eta 0:00:01\r\u001b[K     |████████▏                       | 307kB 12.7MB/s eta 0:00:01\r\u001b[K     |████████▍                       | 317kB 12.7MB/s eta 0:00:01\r\u001b[K     |████████▊                       | 327kB 12.7MB/s eta 0:00:01\r\u001b[K     |█████████                       | 337kB 12.7MB/s eta 0:00:01\r\u001b[K     |█████████▎                      | 348kB 12.7MB/s eta 0:00:01\r\u001b[K     |█████████▌                      | 358kB 12.7MB/s eta 0:00:01\r\u001b[K     |█████████▉                      | 368kB 12.7MB/s eta 0:00:01\r\u001b[K     |██████████                      | 378kB 12.7MB/s eta 0:00:01\r\u001b[K     |██████████▍                     | 389kB 12.7MB/s eta 0:00:01\r\u001b[K     |██████████▋                     | 399kB 12.7MB/s eta 0:00:01\r\u001b[K     |███████████                     | 409kB 12.7MB/s eta 0:00:01\r\u001b[K     |███████████▏                    | 419kB 12.7MB/s eta 0:00:01\r\u001b[K     |███████████▍                    | 430kB 12.7MB/s eta 0:00:01\r\u001b[K     |███████████▊                    | 440kB 12.7MB/s eta 0:00:01\r\u001b[K     |████████████                    | 450kB 12.7MB/s eta 0:00:01\r\u001b[K     |████████████▎                   | 460kB 12.7MB/s eta 0:00:01\r\u001b[K     |████████████▌                   | 471kB 12.7MB/s eta 0:00:01\r\u001b[K     |████████████▉                   | 481kB 12.7MB/s eta 0:00:01\r\u001b[K     |█████████████                   | 491kB 12.7MB/s eta 0:00:01\r\u001b[K     |█████████████▍                  | 501kB 12.7MB/s eta 0:00:01\r\u001b[K     |█████████████▋                  | 512kB 12.7MB/s eta 0:00:01\r\u001b[K     |█████████████▉                  | 522kB 12.7MB/s eta 0:00:01\r\u001b[K     |██████████████▏                 | 532kB 12.7MB/s eta 0:00:01\r\u001b[K     |██████████████▍                 | 542kB 12.7MB/s eta 0:00:01\r\u001b[K     |██████████████▊                 | 552kB 12.7MB/s eta 0:00:01\r\u001b[K     |███████████████                 | 563kB 12.7MB/s eta 0:00:01\r\u001b[K     |███████████████▎                | 573kB 12.7MB/s eta 0:00:01\r\u001b[K     |███████████████▌                | 583kB 12.7MB/s eta 0:00:01\r\u001b[K     |███████████████▉                | 593kB 12.7MB/s eta 0:00:01\r\u001b[K     |████████████████                | 604kB 12.7MB/s eta 0:00:01\r\u001b[K     |████████████████▍               | 614kB 12.7MB/s eta 0:00:01\r\u001b[K     |████████████████▋               | 624kB 12.7MB/s eta 0:00:01\r\u001b[K     |████████████████▉               | 634kB 12.7MB/s eta 0:00:01\r\u001b[K     |█████████████████▏              | 645kB 12.7MB/s eta 0:00:01\r\u001b[K     |█████████████████▍              | 655kB 12.7MB/s eta 0:00:01\r\u001b[K     |█████████████████▊              | 665kB 12.7MB/s eta 0:00:01\r\u001b[K     |██████████████████              | 675kB 12.7MB/s eta 0:00:01\r\u001b[K     |██████████████████▎             | 686kB 12.7MB/s eta 0:00:01\r\u001b[K     |██████████████████▌             | 696kB 12.7MB/s eta 0:00:01\r\u001b[K     |██████████████████▉             | 706kB 12.7MB/s eta 0:00:01\r\u001b[K     |███████████████████             | 716kB 12.7MB/s eta 0:00:01\r\u001b[K     |███████████████████▎            | 727kB 12.7MB/s eta 0:00:01\r\u001b[K     |███████████████████▋            | 737kB 12.7MB/s eta 0:00:01\r\u001b[K     |███████████████████▉            | 747kB 12.7MB/s eta 0:00:01\r\u001b[K     |████████████████████▏           | 757kB 12.7MB/s eta 0:00:01\r\u001b[K     |████████████████████▍           | 768kB 12.7MB/s eta 0:00:01\r\u001b[K     |████████████████████▊           | 778kB 12.7MB/s eta 0:00:01\r\u001b[K     |█████████████████████           | 788kB 12.7MB/s eta 0:00:01\r\u001b[K     |█████████████████████▎          | 798kB 12.7MB/s eta 0:00:01\r\u001b[K     |█████████████████████▌          | 808kB 12.7MB/s eta 0:00:01\r\u001b[K     |█████████████████████▉          | 819kB 12.7MB/s eta 0:00:01\r\u001b[K     |██████████████████████          | 829kB 12.7MB/s eta 0:00:01\r\u001b[K     |██████████████████████▎         | 839kB 12.7MB/s eta 0:00:01\r\u001b[K     |██████████████████████▋         | 849kB 12.7MB/s eta 0:00:01\r\u001b[K     |██████████████████████▉         | 860kB 12.7MB/s eta 0:00:01\r\u001b[K     |███████████████████████▏        | 870kB 12.7MB/s eta 0:00:01\r\u001b[K     |███████████████████████▍        | 880kB 12.7MB/s eta 0:00:01\r\u001b[K     |███████████████████████▊        | 890kB 12.7MB/s eta 0:00:01\r\u001b[K     |████████████████████████        | 901kB 12.7MB/s eta 0:00:01\r\u001b[K     |████████████████████████▎       | 911kB 12.7MB/s eta 0:00:01\r\u001b[K     |████████████████████████▌       | 921kB 12.7MB/s eta 0:00:01\r\u001b[K     |████████████████████████▊       | 931kB 12.7MB/s eta 0:00:01\r\u001b[K     |█████████████████████████       | 942kB 12.7MB/s eta 0:00:01\r\u001b[K     |█████████████████████████▎      | 952kB 12.7MB/s eta 0:00:01\r\u001b[K     |█████████████████████████▋      | 962kB 12.7MB/s eta 0:00:01\r\u001b[K     |█████████████████████████▉      | 972kB 12.7MB/s eta 0:00:01\r\u001b[K     |██████████████████████████▏     | 983kB 12.7MB/s eta 0:00:01\r\u001b[K     |██████████████████████████▍     | 993kB 12.7MB/s eta 0:00:01\r\u001b[K     |██████████████████████████▊     | 1.0MB 12.7MB/s eta 0:00:01\r\u001b[K     |███████████████████████████     | 1.0MB 12.7MB/s eta 0:00:01\r\u001b[K     |███████████████████████████▎    | 1.0MB 12.7MB/s eta 0:00:01\r\u001b[K     |███████████████████████████▌    | 1.0MB 12.7MB/s eta 0:00:01\r\u001b[K     |███████████████████████████▊    | 1.0MB 12.7MB/s eta 0:00:01\r\u001b[K     |████████████████████████████    | 1.1MB 12.7MB/s eta 0:00:01\r\u001b[K     |████████████████████████████▎   | 1.1MB 12.7MB/s eta 0:00:01\r\u001b[K     |████████████████████████████▋   | 1.1MB 12.7MB/s eta 0:00:01\r\u001b[K     |████████████████████████████▉   | 1.1MB 12.7MB/s eta 0:00:01\r\u001b[K     |█████████████████████████████▏  | 1.1MB 12.7MB/s eta 0:00:01\r\u001b[K     |█████████████████████████████▍  | 1.1MB 12.7MB/s eta 0:00:01\r\u001b[K     |█████████████████████████████▊  | 1.1MB 12.7MB/s eta 0:00:01\r\u001b[K     |██████████████████████████████  | 1.1MB 12.7MB/s eta 0:00:01\r\u001b[K     |██████████████████████████████▏ | 1.1MB 12.7MB/s eta 0:00:01\r\u001b[K     |██████████████████████████████▌ | 1.1MB 12.7MB/s eta 0:00:01\r\u001b[K     |██████████████████████████████▊ | 1.2MB 12.7MB/s eta 0:00:01\r\u001b[K     |███████████████████████████████ | 1.2MB 12.7MB/s eta 0:00:01\r\u001b[K     |███████████████████████████████▎| 1.2MB 12.7MB/s eta 0:00:01\r\u001b[K     |███████████████████████████████▋| 1.2MB 12.7MB/s eta 0:00:01\r\u001b[K     |███████████████████████████████▉| 1.2MB 12.7MB/s eta 0:00:01\r\u001b[K     |████████████████████████████████| 1.2MB 12.7MB/s \n",
            "\u001b[?25hInstalling collected packages: sentencepiece\n",
            "Successfully installed sentencepiece-0.1.95\n"
          ],
          "name": "stdout"
        }
      ]
    },
    {
      "cell_type": "code",
      "metadata": {
        "_uuid": "8f2839f25d086af736a60e9eeb907d3b93b6e0e5",
        "_cell_guid": "b1076dfc-b9ad-4769-8c92-a6c4dae69d19",
        "trusted": true,
        "id": "ysPksUKnbDEk"
      },
      "source": [
        "import numpy as np\n",
        "import pandas as pd\n",
        "import tensorflow as tf\n",
        "from tensorflow.keras.layers import Dense, Input\n",
        "from tensorflow.keras.optimizers import Adam\n",
        "from tensorflow.keras.models import Model\n",
        "from tensorflow.keras.callbacks import ModelCheckpoint\n",
        "import tensorflow_hub as hub\n",
        "\n",
        "import tokenization"
      ],
      "execution_count": 3,
      "outputs": []
    },
    {
      "cell_type": "markdown",
      "metadata": {
        "id": "R7csRyp-bDEm"
      },
      "source": [
        "# Model Implement"
      ]
    },
    {
      "cell_type": "code",
      "metadata": {
        "trusted": true,
        "id": "z58kExLkbDEm"
      },
      "source": [
        "def bert_encode(texts, tokenizer, max_len=128):\n",
        "    all_tokens = []\n",
        "    all_masks = []\n",
        "    all_segments = []\n",
        "    \n",
        "    for text in texts:\n",
        "        text = tokenizer.tokenize(text)\n",
        "            \n",
        "        text = text[:max_len-2]\n",
        "        input_sequence = [\"[CLS]\"] + text + [\"[SEP]\"]\n",
        "        pad_len = max_len - len(input_sequence)\n",
        "        \n",
        "        tokens = tokenizer.convert_tokens_to_ids(input_sequence)\n",
        "        tokens += [0] * pad_len\n",
        "        pad_masks = [1] * len(input_sequence) + [0] * pad_len\n",
        "        segment_ids = [0] * max_len\n",
        "        \n",
        "        all_tokens.append(tokens)\n",
        "        all_masks.append(pad_masks)\n",
        "        all_segments.append(segment_ids)\n",
        "    \n",
        "    return np.array(all_tokens), np.array(all_masks), np.array(all_segments)"
      ],
      "execution_count": 4,
      "outputs": []
    },
    {
      "cell_type": "code",
      "metadata": {
        "_uuid": "d629ff2d2480ee46fbb7e2d37f6b5fab8052498a",
        "_cell_guid": "79c7e3d0-c299-4dcb-8224-4455121ee9b0",
        "trusted": true,
        "id": "aAObzxpebDEp"
      },
      "source": [
        "def build_model(bert_layer, max_len=128):\n",
        "    input_word_ids = Input(shape=(max_len,), dtype=tf.int32, name=\"input_word_ids\")\n",
        "    input_mask = Input(shape=(max_len,), dtype=tf.int32, name=\"input_mask\")\n",
        "    segment_ids = Input(shape=(max_len,), dtype=tf.int32, name=\"segment_ids\")\n",
        "\n",
        "    _, sequence_output = bert_layer([input_word_ids, input_mask, segment_ids])\n",
        "    clf_output = sequence_output[:, 0, :]\n",
        "    out = Dense(1, activation='sigmoid')(clf_output)\n",
        "    \n",
        "    model = Model(inputs=[input_word_ids, input_mask, segment_ids], outputs=out)\n",
        "    model.compile(Adam(lr=1e-2), loss='binary_crossentropy', metrics=['accuracy'])\n",
        "    \n",
        "    return model"
      ],
      "execution_count": 5,
      "outputs": []
    },
    {
      "cell_type": "code",
      "metadata": {
        "trusted": true,
        "id": "8AFUY8vXbDEr",
        "colab": {
          "base_uri": "https://localhost:8080/"
        },
        "outputId": "6e20ec0e-55bc-47e5-9076-6c730ccc1aa6"
      },
      "source": [
        "%%time\n",
        "module_url = \"https://tfhub.dev/tensorflow/bert_en_uncased_L-24_H-1024_A-16/1\"\n",
        "bert_layer = hub.KerasLayer(module_url, trainable=True)"
      ],
      "execution_count": 6,
      "outputs": [
        {
          "output_type": "stream",
          "text": [
            "CPU times: user 23.7 s, sys: 4.79 s, total: 28.5 s\n",
            "Wall time: 35.2 s\n"
          ],
          "name": "stdout"
        }
      ]
    },
    {
      "cell_type": "code",
      "metadata": {
        "id": "rSgGRuvBcXMR",
        "colab": {
          "base_uri": "https://localhost:8080/"
        },
        "outputId": "46cc2cd7-5b6d-47ff-eebe-98533d2d902f"
      },
      "source": [
        "from google.colab import drive\n",
        "drive.mount('/content/drive')"
      ],
      "execution_count": 7,
      "outputs": [
        {
          "output_type": "stream",
          "text": [
            "Mounted at /content/drive\n"
          ],
          "name": "stdout"
        }
      ]
    },
    {
      "cell_type": "code",
      "metadata": {
        "id": "M195v8mScdju",
        "colab": {
          "base_uri": "https://localhost:8080/"
        },
        "outputId": "59fd2a43-ec8a-4120-c446-758fc75a5560"
      },
      "source": [
        "!ls '/content/drive/My Drive/boaz_study/miniproj'"
      ],
      "execution_count": 8,
      "outputs": [
        {
          "output_type": "stream",
          "text": [
            "'한겨레_1차 전처리.csv'       'BERT Model.ipynb'\n",
            "'동아일보_1차 전처리.csv'     '중앙일보 미니프로젝트 데이터(전처리 ver_1).csv'\n",
            "'1차 전처리 데이터 종합.csv'  '경향신문 미니프로젝트 데이터(전처리 ver_1).csv'\n"
          ],
          "name": "stdout"
        }
      ]
    },
    {
      "cell_type": "code",
      "metadata": {
        "trusted": true,
        "id": "yYu7n0ZLbDEu"
      },
      "source": [
        "data = pd.read_csv('/content/drive/My Drive/boaz_study/miniproj/1차 전처리 데이터 종합.csv')"
      ],
      "execution_count": 9,
      "outputs": []
    },
    {
      "cell_type": "code",
      "metadata": {
        "id": "Z05vQ6al3lb2",
        "colab": {
          "base_uri": "https://localhost:8080/"
        },
        "outputId": "12f1dc04-e592-406f-d8f8-cf392176b97d"
      },
      "source": [
        "data.isnull().sum()"
      ],
      "execution_count": 10,
      "outputs": [
        {
          "output_type": "execute_result",
          "data": {
            "text/plain": [
              "기사 제목      0\n",
              "기사 내용    186\n",
              "label      0\n",
              "dtype: int64"
            ]
          },
          "metadata": {
            "tags": []
          },
          "execution_count": 10
        }
      ]
    },
    {
      "cell_type": "code",
      "metadata": {
        "id": "-eccp6FuzyyA",
        "colab": {
          "base_uri": "https://localhost:8080/",
          "height": 202
        },
        "outputId": "b677b0f3-37e0-4834-a579-6a95f735f2b0"
      },
      "source": [
        "data.head()"
      ],
      "execution_count": 11,
      "outputs": [
        {
          "output_type": "execute_result",
          "data": {
            "text/html": [
              "<div>\n",
              "<style scoped>\n",
              "    .dataframe tbody tr th:only-of-type {\n",
              "        vertical-align: middle;\n",
              "    }\n",
              "\n",
              "    .dataframe tbody tr th {\n",
              "        vertical-align: top;\n",
              "    }\n",
              "\n",
              "    .dataframe thead th {\n",
              "        text-align: right;\n",
              "    }\n",
              "</style>\n",
              "<table border=\"1\" class=\"dataframe\">\n",
              "  <thead>\n",
              "    <tr style=\"text-align: right;\">\n",
              "      <th></th>\n",
              "      <th>기사 제목</th>\n",
              "      <th>기사 내용</th>\n",
              "      <th>label</th>\n",
              "    </tr>\n",
              "  </thead>\n",
              "  <tbody>\n",
              "    <tr>\n",
              "      <th>0</th>\n",
              "      <td>하태경   임을 위한 행진곡 은 민주주의 한류   보수가 앞장서서 수출해야</td>\n",
              "      <td>하태경 미래통합당 의원이 18일   임을 위한 행진곡 은 자랑스러운 민주주의 한류로...</td>\n",
              "      <td>0</td>\n",
              "    </tr>\n",
              "    <tr>\n",
              "      <th>1</th>\n",
              "      <td>단독 여야  과거사법  배상 조항  빼기로 합의    20일 마무리 본회의서 민생...</td>\n",
              "      <td>여야가 20대 국회 마지막 본회의를 오는 20일에 열고 코로나19 대응 관련 법안과...</td>\n",
              "      <td>0</td>\n",
              "    </tr>\n",
              "    <tr>\n",
              "      <th>2</th>\n",
              "      <td>정총리  5 18의 실체적 진실  역사의 심판대 위에 올려야</td>\n",
              "      <td>정세균 국무총리는 18일  아직 숨겨진 5 18민주화운동의 실체적 진실을 역사의 심...</td>\n",
              "      <td>0</td>\n",
              "    </tr>\n",
              "    <tr>\n",
              "      <th>3</th>\n",
              "      <td>정세균 총리  민주유공자 유족 가슴 아프게 하는 왜곡 폄훼 없어야</td>\n",
              "      <td>정세균 국무총리가 소설가 한강의 작품  소년이 온다 를 인용하면서 5 18 민주유공...</td>\n",
              "      <td>0</td>\n",
              "    </tr>\n",
              "    <tr>\n",
              "      <th>4</th>\n",
              "      <td>광주 간 잠룡들</td>\n",
              "      <td>김부겸  보수가 좋아 찍었다고 하는 게 나아  지역감정 비판유승민  보수 5 18 ...</td>\n",
              "      <td>0</td>\n",
              "    </tr>\n",
              "  </tbody>\n",
              "</table>\n",
              "</div>"
            ],
            "text/plain": [
              "                                               기사 제목  ... label\n",
              "0         하태경   임을 위한 행진곡 은 민주주의 한류   보수가 앞장서서 수출해야   ...     0\n",
              "1   단독 여야  과거사법  배상 조항  빼기로 합의    20일 마무리 본회의서 민생...  ...     0\n",
              "2                 정총리  5 18의 실체적 진실  역사의 심판대 위에 올려야   ...     0\n",
              "3              정세균 총리  민주유공자 유족 가슴 아프게 하는 왜곡 폄훼 없어야   ...     0\n",
              "4                                           광주 간 잠룡들  ...     0\n",
              "\n",
              "[5 rows x 3 columns]"
            ]
          },
          "metadata": {
            "tags": []
          },
          "execution_count": 11
        }
      ]
    },
    {
      "cell_type": "code",
      "metadata": {
        "id": "HcYVSVGIp02O"
      },
      "source": [
        "train = data.iloc[:80000]\n",
        "test = data.iloc[80000:]"
      ],
      "execution_count": 12,
      "outputs": []
    },
    {
      "cell_type": "code",
      "metadata": {
        "id": "2ofX95nn3cfa",
        "colab": {
          "base_uri": "https://localhost:8080/"
        },
        "outputId": "cbecaf96-b42b-4917-9056-8c06ebf8095b"
      },
      "source": [
        "train[\"기사 제목\"] = train[\"기사 제목\"].astype(\"string\")\n",
        "test[\"기사 제목\"] = test[\"기사 제목\"].astype(\"string\")"
      ],
      "execution_count": 13,
      "outputs": [
        {
          "output_type": "stream",
          "text": [
            "/usr/local/lib/python3.7/dist-packages/ipykernel_launcher.py:1: SettingWithCopyWarning: \n",
            "A value is trying to be set on a copy of a slice from a DataFrame.\n",
            "Try using .loc[row_indexer,col_indexer] = value instead\n",
            "\n",
            "See the caveats in the documentation: https://pandas.pydata.org/pandas-docs/stable/user_guide/indexing.html#returning-a-view-versus-a-copy\n",
            "  \"\"\"Entry point for launching an IPython kernel.\n",
            "/usr/local/lib/python3.7/dist-packages/ipykernel_launcher.py:2: SettingWithCopyWarning: \n",
            "A value is trying to be set on a copy of a slice from a DataFrame.\n",
            "Try using .loc[row_indexer,col_indexer] = value instead\n",
            "\n",
            "See the caveats in the documentation: https://pandas.pydata.org/pandas-docs/stable/user_guide/indexing.html#returning-a-view-versus-a-copy\n",
            "  \n"
          ],
          "name": "stderr"
        }
      ]
    },
    {
      "cell_type": "code",
      "metadata": {
        "id": "tfajXmWYdFIT"
      },
      "source": [
        "from sklearn.model_selection import train_test_split\n",
        "from sklearn import metrics\n",
        "\n",
        "train_labels = train[\"label\"]\n",
        "test_labels = test[\"label\"]\n",
        "\n",
        "train = train.drop(\"label\", axis = 1)\n",
        "test = test.drop(\"label\", axis = 1)"
      ],
      "execution_count": 14,
      "outputs": []
    },
    {
      "cell_type": "code",
      "metadata": {
        "trusted": true,
        "id": "DxDV2IsTbDEz"
      },
      "source": [
        "vocab_file = bert_layer.resolved_object.vocab_file.asset_path.numpy()\n",
        "do_lower_case = bert_layer.resolved_object.do_lower_case.numpy()\n",
        "tokenizer = tokenization.FullTokenizer(vocab_file, do_lower_case)"
      ],
      "execution_count": 15,
      "outputs": []
    },
    {
      "cell_type": "code",
      "metadata": {
        "trusted": true,
        "id": "G2zwhspubDE1"
      },
      "source": [
        "train_input = bert_encode(train[\"기사 제목\"].values, tokenizer, max_len=128)\n",
        "test_input = bert_encode(test[\"기사 제목\"].values, tokenizer, max_len=128)"
      ],
      "execution_count": 16,
      "outputs": []
    },
    {
      "cell_type": "markdown",
      "metadata": {
        "id": "Niuojn9BbDE2"
      },
      "source": [
        "# Model: Build, Train, Predict, Submit"
      ]
    },
    {
      "cell_type": "code",
      "metadata": {
        "trusted": true,
        "id": "HUbjlOlCbDE3",
        "colab": {
          "base_uri": "https://localhost:8080/"
        },
        "outputId": "116e14e1-0067-4159-812c-94a8191f40b8"
      },
      "source": [
        "model = build_model(bert_layer, max_len=128)\n",
        "model.summary()"
      ],
      "execution_count": 17,
      "outputs": [
        {
          "output_type": "stream",
          "text": [
            "Model: \"model\"\n",
            "__________________________________________________________________________________________________\n",
            "Layer (type)                    Output Shape         Param #     Connected to                     \n",
            "==================================================================================================\n",
            "input_word_ids (InputLayer)     [(None, 128)]        0                                            \n",
            "__________________________________________________________________________________________________\n",
            "input_mask (InputLayer)         [(None, 128)]        0                                            \n",
            "__________________________________________________________________________________________________\n",
            "segment_ids (InputLayer)        [(None, 128)]        0                                            \n",
            "__________________________________________________________________________________________________\n",
            "keras_layer (KerasLayer)        [(None, 1024), (None 335141889   input_word_ids[0][0]             \n",
            "                                                                 input_mask[0][0]                 \n",
            "                                                                 segment_ids[0][0]                \n",
            "__________________________________________________________________________________________________\n",
            "tf.__operators__.getitem (Slici (None, 1024)         0           keras_layer[0][1]                \n",
            "__________________________________________________________________________________________________\n",
            "dense (Dense)                   (None, 1)            1025        tf.__operators__.getitem[0][0]   \n",
            "==================================================================================================\n",
            "Total params: 335,142,914\n",
            "Trainable params: 335,142,913\n",
            "Non-trainable params: 1\n",
            "__________________________________________________________________________________________________\n"
          ],
          "name": "stdout"
        }
      ]
    },
    {
      "cell_type": "code",
      "metadata": {
        "trusted": true,
        "id": "vXssFG8_bDE5",
        "colab": {
          "base_uri": "https://localhost:8080/",
          "height": 469
        },
        "outputId": "b1dad09a-4cc7-4672-cf0e-ebeed1817273"
      },
      "source": [
        "checkpoint = ModelCheckpoint('model.h5', monitor='val_loss', save_best_only=True)\n",
        "\n",
        "train_history = model.fit(\n",
        "    train_input, train_labels,\n",
        "    validation_split=0.3,\n",
        "    epochs=8,\n",
        "    callbacks=[checkpoint],\n",
        "    batch_size=16\n",
        ")"
      ],
      "execution_count": 19,
      "outputs": [
        {
          "output_type": "stream",
          "text": [
            "Epoch 1/8\n",
            "3500/3500 [==============================] - 1683s 476ms/step - loss: 0.6247 - accuracy: 0.7110 - val_loss: 0.6544 - val_accuracy: 0.6389\n",
            "Epoch 2/8\n",
            "3500/3500 [==============================] - 1665s 476ms/step - loss: 0.6001 - accuracy: 0.7143 - val_loss: 0.6571 - val_accuracy: 0.6389\n",
            "Epoch 3/8\n",
            "2463/3500 [====================>.........] - ETA: 7:11 - loss: 0.5995 - accuracy: 0.7145"
          ],
          "name": "stdout"
        },
        {
          "output_type": "error",
          "ename": "KeyboardInterrupt",
          "evalue": "ignored",
          "traceback": [
            "\u001b[0;31m---------------------------------------------------------------------------\u001b[0m",
            "\u001b[0;31mKeyboardInterrupt\u001b[0m                         Traceback (most recent call last)",
            "\u001b[0;32m<ipython-input-19-a82a65fca52b>\u001b[0m in \u001b[0;36m<module>\u001b[0;34m()\u001b[0m\n\u001b[1;32m      6\u001b[0m     \u001b[0mepochs\u001b[0m\u001b[0;34m=\u001b[0m\u001b[0;36m8\u001b[0m\u001b[0;34m,\u001b[0m\u001b[0;34m\u001b[0m\u001b[0;34m\u001b[0m\u001b[0m\n\u001b[1;32m      7\u001b[0m     \u001b[0mcallbacks\u001b[0m\u001b[0;34m=\u001b[0m\u001b[0;34m[\u001b[0m\u001b[0mcheckpoint\u001b[0m\u001b[0;34m]\u001b[0m\u001b[0;34m,\u001b[0m\u001b[0;34m\u001b[0m\u001b[0;34m\u001b[0m\u001b[0m\n\u001b[0;32m----> 8\u001b[0;31m     \u001b[0mbatch_size\u001b[0m\u001b[0;34m=\u001b[0m\u001b[0;36m16\u001b[0m\u001b[0;34m\u001b[0m\u001b[0;34m\u001b[0m\u001b[0m\n\u001b[0m\u001b[1;32m      9\u001b[0m )\n",
            "\u001b[0;32m/usr/local/lib/python3.7/dist-packages/tensorflow/python/keras/engine/training.py\u001b[0m in \u001b[0;36mfit\u001b[0;34m(self, x, y, batch_size, epochs, verbose, callbacks, validation_split, validation_data, shuffle, class_weight, sample_weight, initial_epoch, steps_per_epoch, validation_steps, validation_batch_size, validation_freq, max_queue_size, workers, use_multiprocessing)\u001b[0m\n\u001b[1;32m   1098\u001b[0m                 _r=1):\n\u001b[1;32m   1099\u001b[0m               \u001b[0mcallbacks\u001b[0m\u001b[0;34m.\u001b[0m\u001b[0mon_train_batch_begin\u001b[0m\u001b[0;34m(\u001b[0m\u001b[0mstep\u001b[0m\u001b[0;34m)\u001b[0m\u001b[0;34m\u001b[0m\u001b[0;34m\u001b[0m\u001b[0m\n\u001b[0;32m-> 1100\u001b[0;31m               \u001b[0mtmp_logs\u001b[0m \u001b[0;34m=\u001b[0m \u001b[0mself\u001b[0m\u001b[0;34m.\u001b[0m\u001b[0mtrain_function\u001b[0m\u001b[0;34m(\u001b[0m\u001b[0miterator\u001b[0m\u001b[0;34m)\u001b[0m\u001b[0;34m\u001b[0m\u001b[0;34m\u001b[0m\u001b[0m\n\u001b[0m\u001b[1;32m   1101\u001b[0m               \u001b[0;32mif\u001b[0m \u001b[0mdata_handler\u001b[0m\u001b[0;34m.\u001b[0m\u001b[0mshould_sync\u001b[0m\u001b[0;34m:\u001b[0m\u001b[0;34m\u001b[0m\u001b[0;34m\u001b[0m\u001b[0m\n\u001b[1;32m   1102\u001b[0m                 \u001b[0mcontext\u001b[0m\u001b[0;34m.\u001b[0m\u001b[0masync_wait\u001b[0m\u001b[0;34m(\u001b[0m\u001b[0;34m)\u001b[0m\u001b[0;34m\u001b[0m\u001b[0;34m\u001b[0m\u001b[0m\n",
            "\u001b[0;32m/usr/local/lib/python3.7/dist-packages/tensorflow/python/eager/def_function.py\u001b[0m in \u001b[0;36m__call__\u001b[0;34m(self, *args, **kwds)\u001b[0m\n\u001b[1;32m    826\u001b[0m     \u001b[0mtracing_count\u001b[0m \u001b[0;34m=\u001b[0m \u001b[0mself\u001b[0m\u001b[0;34m.\u001b[0m\u001b[0mexperimental_get_tracing_count\u001b[0m\u001b[0;34m(\u001b[0m\u001b[0;34m)\u001b[0m\u001b[0;34m\u001b[0m\u001b[0;34m\u001b[0m\u001b[0m\n\u001b[1;32m    827\u001b[0m     \u001b[0;32mwith\u001b[0m \u001b[0mtrace\u001b[0m\u001b[0;34m.\u001b[0m\u001b[0mTrace\u001b[0m\u001b[0;34m(\u001b[0m\u001b[0mself\u001b[0m\u001b[0;34m.\u001b[0m\u001b[0m_name\u001b[0m\u001b[0;34m)\u001b[0m \u001b[0;32mas\u001b[0m \u001b[0mtm\u001b[0m\u001b[0;34m:\u001b[0m\u001b[0;34m\u001b[0m\u001b[0;34m\u001b[0m\u001b[0m\n\u001b[0;32m--> 828\u001b[0;31m       \u001b[0mresult\u001b[0m \u001b[0;34m=\u001b[0m \u001b[0mself\u001b[0m\u001b[0;34m.\u001b[0m\u001b[0m_call\u001b[0m\u001b[0;34m(\u001b[0m\u001b[0;34m*\u001b[0m\u001b[0margs\u001b[0m\u001b[0;34m,\u001b[0m \u001b[0;34m**\u001b[0m\u001b[0mkwds\u001b[0m\u001b[0;34m)\u001b[0m\u001b[0;34m\u001b[0m\u001b[0;34m\u001b[0m\u001b[0m\n\u001b[0m\u001b[1;32m    829\u001b[0m       \u001b[0mcompiler\u001b[0m \u001b[0;34m=\u001b[0m \u001b[0;34m\"xla\"\u001b[0m \u001b[0;32mif\u001b[0m \u001b[0mself\u001b[0m\u001b[0;34m.\u001b[0m\u001b[0m_experimental_compile\u001b[0m \u001b[0;32melse\u001b[0m \u001b[0;34m\"nonXla\"\u001b[0m\u001b[0;34m\u001b[0m\u001b[0;34m\u001b[0m\u001b[0m\n\u001b[1;32m    830\u001b[0m       \u001b[0mnew_tracing_count\u001b[0m \u001b[0;34m=\u001b[0m \u001b[0mself\u001b[0m\u001b[0;34m.\u001b[0m\u001b[0mexperimental_get_tracing_count\u001b[0m\u001b[0;34m(\u001b[0m\u001b[0;34m)\u001b[0m\u001b[0;34m\u001b[0m\u001b[0;34m\u001b[0m\u001b[0m\n",
            "\u001b[0;32m/usr/local/lib/python3.7/dist-packages/tensorflow/python/eager/def_function.py\u001b[0m in \u001b[0;36m_call\u001b[0;34m(self, *args, **kwds)\u001b[0m\n\u001b[1;32m    853\u001b[0m       \u001b[0;31m# In this case we have created variables on the first call, so we run the\u001b[0m\u001b[0;34m\u001b[0m\u001b[0;34m\u001b[0m\u001b[0;34m\u001b[0m\u001b[0m\n\u001b[1;32m    854\u001b[0m       \u001b[0;31m# defunned version which is guaranteed to never create variables.\u001b[0m\u001b[0;34m\u001b[0m\u001b[0;34m\u001b[0m\u001b[0;34m\u001b[0m\u001b[0m\n\u001b[0;32m--> 855\u001b[0;31m       \u001b[0;32mreturn\u001b[0m \u001b[0mself\u001b[0m\u001b[0;34m.\u001b[0m\u001b[0m_stateless_fn\u001b[0m\u001b[0;34m(\u001b[0m\u001b[0;34m*\u001b[0m\u001b[0margs\u001b[0m\u001b[0;34m,\u001b[0m \u001b[0;34m**\u001b[0m\u001b[0mkwds\u001b[0m\u001b[0;34m)\u001b[0m  \u001b[0;31m# pylint: disable=not-callable\u001b[0m\u001b[0;34m\u001b[0m\u001b[0;34m\u001b[0m\u001b[0m\n\u001b[0m\u001b[1;32m    856\u001b[0m     \u001b[0;32melif\u001b[0m \u001b[0mself\u001b[0m\u001b[0;34m.\u001b[0m\u001b[0m_stateful_fn\u001b[0m \u001b[0;32mis\u001b[0m \u001b[0;32mnot\u001b[0m \u001b[0;32mNone\u001b[0m\u001b[0;34m:\u001b[0m\u001b[0;34m\u001b[0m\u001b[0;34m\u001b[0m\u001b[0m\n\u001b[1;32m    857\u001b[0m       \u001b[0;31m# Release the lock early so that multiple threads can perform the call\u001b[0m\u001b[0;34m\u001b[0m\u001b[0;34m\u001b[0m\u001b[0;34m\u001b[0m\u001b[0m\n",
            "\u001b[0;32m/usr/local/lib/python3.7/dist-packages/tensorflow/python/eager/function.py\u001b[0m in \u001b[0;36m__call__\u001b[0;34m(self, *args, **kwargs)\u001b[0m\n\u001b[1;32m   2941\u001b[0m        filtered_flat_args) = self._maybe_define_function(args, kwargs)\n\u001b[1;32m   2942\u001b[0m     return graph_function._call_flat(\n\u001b[0;32m-> 2943\u001b[0;31m         filtered_flat_args, captured_inputs=graph_function.captured_inputs)  # pylint: disable=protected-access\n\u001b[0m\u001b[1;32m   2944\u001b[0m \u001b[0;34m\u001b[0m\u001b[0m\n\u001b[1;32m   2945\u001b[0m   \u001b[0;34m@\u001b[0m\u001b[0mproperty\u001b[0m\u001b[0;34m\u001b[0m\u001b[0;34m\u001b[0m\u001b[0m\n",
            "\u001b[0;32m/usr/local/lib/python3.7/dist-packages/tensorflow/python/eager/function.py\u001b[0m in \u001b[0;36m_call_flat\u001b[0;34m(self, args, captured_inputs, cancellation_manager)\u001b[0m\n\u001b[1;32m   1917\u001b[0m       \u001b[0;31m# No tape is watching; skip to running the function.\u001b[0m\u001b[0;34m\u001b[0m\u001b[0;34m\u001b[0m\u001b[0;34m\u001b[0m\u001b[0m\n\u001b[1;32m   1918\u001b[0m       return self._build_call_outputs(self._inference_function.call(\n\u001b[0;32m-> 1919\u001b[0;31m           ctx, args, cancellation_manager=cancellation_manager))\n\u001b[0m\u001b[1;32m   1920\u001b[0m     forward_backward = self._select_forward_and_backward_functions(\n\u001b[1;32m   1921\u001b[0m         \u001b[0margs\u001b[0m\u001b[0;34m,\u001b[0m\u001b[0;34m\u001b[0m\u001b[0;34m\u001b[0m\u001b[0m\n",
            "\u001b[0;32m/usr/local/lib/python3.7/dist-packages/tensorflow/python/eager/function.py\u001b[0m in \u001b[0;36mcall\u001b[0;34m(self, ctx, args, cancellation_manager)\u001b[0m\n\u001b[1;32m    558\u001b[0m               \u001b[0minputs\u001b[0m\u001b[0;34m=\u001b[0m\u001b[0margs\u001b[0m\u001b[0;34m,\u001b[0m\u001b[0;34m\u001b[0m\u001b[0;34m\u001b[0m\u001b[0m\n\u001b[1;32m    559\u001b[0m               \u001b[0mattrs\u001b[0m\u001b[0;34m=\u001b[0m\u001b[0mattrs\u001b[0m\u001b[0;34m,\u001b[0m\u001b[0;34m\u001b[0m\u001b[0;34m\u001b[0m\u001b[0m\n\u001b[0;32m--> 560\u001b[0;31m               ctx=ctx)\n\u001b[0m\u001b[1;32m    561\u001b[0m         \u001b[0;32melse\u001b[0m\u001b[0;34m:\u001b[0m\u001b[0;34m\u001b[0m\u001b[0;34m\u001b[0m\u001b[0m\n\u001b[1;32m    562\u001b[0m           outputs = execute.execute_with_cancellation(\n",
            "\u001b[0;32m/usr/local/lib/python3.7/dist-packages/tensorflow/python/eager/execute.py\u001b[0m in \u001b[0;36mquick_execute\u001b[0;34m(op_name, num_outputs, inputs, attrs, ctx, name)\u001b[0m\n\u001b[1;32m     58\u001b[0m     \u001b[0mctx\u001b[0m\u001b[0;34m.\u001b[0m\u001b[0mensure_initialized\u001b[0m\u001b[0;34m(\u001b[0m\u001b[0;34m)\u001b[0m\u001b[0;34m\u001b[0m\u001b[0;34m\u001b[0m\u001b[0m\n\u001b[1;32m     59\u001b[0m     tensors = pywrap_tfe.TFE_Py_Execute(ctx._handle, device_name, op_name,\n\u001b[0;32m---> 60\u001b[0;31m                                         inputs, attrs, num_outputs)\n\u001b[0m\u001b[1;32m     61\u001b[0m   \u001b[0;32mexcept\u001b[0m \u001b[0mcore\u001b[0m\u001b[0;34m.\u001b[0m\u001b[0m_NotOkStatusException\u001b[0m \u001b[0;32mas\u001b[0m \u001b[0me\u001b[0m\u001b[0;34m:\u001b[0m\u001b[0;34m\u001b[0m\u001b[0;34m\u001b[0m\u001b[0m\n\u001b[1;32m     62\u001b[0m     \u001b[0;32mif\u001b[0m \u001b[0mname\u001b[0m \u001b[0;32mis\u001b[0m \u001b[0;32mnot\u001b[0m \u001b[0;32mNone\u001b[0m\u001b[0;34m:\u001b[0m\u001b[0;34m\u001b[0m\u001b[0;34m\u001b[0m\u001b[0m\n",
            "\u001b[0;31mKeyboardInterrupt\u001b[0m: "
          ]
        }
      ]
    },
    {
      "cell_type": "code",
      "metadata": {
        "trusted": true,
        "id": "IqUX3keabDE7"
      },
      "source": [
        "model.load_weights('model.h5')\n",
        "model.evaluate(test_input, test_target, batch_size = 16)"
      ],
      "execution_count": null,
      "outputs": []
    },
    {
      "cell_type": "code",
      "metadata": {
        "id": "QEAvGdYcuu-t"
      },
      "source": [
        ""
      ],
      "execution_count": null,
      "outputs": []
    }
  ]
}