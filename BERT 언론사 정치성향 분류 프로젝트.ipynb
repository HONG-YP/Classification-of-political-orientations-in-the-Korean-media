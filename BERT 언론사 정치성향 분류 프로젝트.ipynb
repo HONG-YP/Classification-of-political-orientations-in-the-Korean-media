{
  "nbformat": 4,
  "nbformat_minor": 0,
  "metadata": {
    "kernelspec": {
      "language": "python",
      "display_name": "Python 3",
      "name": "python3"
    },
    "language_info": {
      "pygments_lexer": "ipython3",
      "nbconvert_exporter": "python",
      "version": "3.6.4",
      "file_extension": ".py",
      "codemirror_mode": {
        "name": "ipython",
        "version": 3
      },
      "name": "python",
      "mimetype": "text/x-python"
    },
    "colab": {
      "name": "BERT Model.ipynb",
      "provenance": [],
      "collapsed_sections": [],
      "machine_shape": "hm"
    },
    "accelerator": "GPU"
  },
  "cells": [
    {
      "cell_type": "code",
      "metadata": {
        "trusted": true,
        "id": "4GwVrv3RbDEh"
      },
      "source": [
        "# We will use the official tokenization script created by the Google team\n",
        "!wget --quiet https://raw.githubusercontent.com/tensorflow/models/master/official/nlp/bert/tokenization.py"
      ],
      "execution_count": 1,
      "outputs": []
    },
    {
      "cell_type": "code",
      "metadata": {
        "id": "bBtRRJ04cNF0",
        "colab": {
          "base_uri": "https://localhost:8080/"
        },
        "outputId": "17a311fe-117a-493e-cc4f-6529354b1328"
      },
      "source": [
        "!pip install sentencepiece"
      ],
      "execution_count": 2,
      "outputs": [
        {
          "output_type": "stream",
          "text": [
            "Requirement already satisfied: sentencepiece in /usr/local/lib/python3.7/dist-packages (0.1.95)\n"
          ],
          "name": "stdout"
        }
      ]
    },
    {
      "cell_type": "code",
      "metadata": {
        "_uuid": "8f2839f25d086af736a60e9eeb907d3b93b6e0e5",
        "_cell_guid": "b1076dfc-b9ad-4769-8c92-a6c4dae69d19",
        "trusted": true,
        "id": "ysPksUKnbDEk"
      },
      "source": [
        "import numpy as np\n",
        "import pandas as pd\n",
        "import tensorflow as tf\n",
        "from tensorflow.keras.layers import Dense, Input\n",
        "from tensorflow.keras.optimizers import Adam\n",
        "from tensorflow.keras.models import Model\n",
        "from tensorflow.keras.callbacks import ModelCheckpoint\n",
        "import tensorflow_hub as hub\n",
        "\n",
        "import tokenization"
      ],
      "execution_count": 3,
      "outputs": []
    },
    {
      "cell_type": "markdown",
      "metadata": {
        "id": "R7csRyp-bDEm"
      },
      "source": [
        "# Model Implement"
      ]
    },
    {
      "cell_type": "code",
      "metadata": {
        "trusted": true,
        "id": "z58kExLkbDEm"
      },
      "source": [
        "def bert_encode(texts, tokenizer, max_len=128):\n",
        "    all_tokens = []\n",
        "    all_masks = []\n",
        "    all_segments = []\n",
        "    \n",
        "    for text in texts:\n",
        "        text = tokenizer.tokenize(text)\n",
        "            \n",
        "        text = text[:max_len-2]\n",
        "        input_sequence = [\"[CLS]\"] + text + [\"[SEP]\"]\n",
        "        pad_len = max_len - len(input_sequence)\n",
        "        \n",
        "        tokens = tokenizer.convert_tokens_to_ids(input_sequence)\n",
        "        tokens += [0] * pad_len\n",
        "        pad_masks = [1] * len(input_sequence) + [0] * pad_len\n",
        "        segment_ids = [0] * max_len\n",
        "        \n",
        "        all_tokens.append(tokens)\n",
        "        all_masks.append(pad_masks)\n",
        "        all_segments.append(segment_ids)\n",
        "    \n",
        "    return np.array(all_tokens), np.array(all_masks), np.array(all_segments)"
      ],
      "execution_count": 4,
      "outputs": []
    },
    {
      "cell_type": "code",
      "metadata": {
        "_uuid": "d629ff2d2480ee46fbb7e2d37f6b5fab8052498a",
        "_cell_guid": "79c7e3d0-c299-4dcb-8224-4455121ee9b0",
        "trusted": true,
        "id": "aAObzxpebDEp"
      },
      "source": [
        "def build_model(bert_layer, max_len=128):\n",
        "    input_word_ids = Input(shape=(max_len,), dtype=tf.int32, name=\"input_word_ids\")\n",
        "    input_mask = Input(shape=(max_len,), dtype=tf.int32, name=\"input_mask\")\n",
        "    segment_ids = Input(shape=(max_len,), dtype=tf.int32, name=\"segment_ids\")\n",
        "\n",
        "    _, sequence_output = bert_layer([input_word_ids, input_mask, segment_ids])\n",
        "    clf_output = sequence_output[:, 0, :]\n",
        "    out = Dense(1, activation='sigmoid')(clf_output)\n",
        "    \n",
        "    model = Model(inputs=[input_word_ids, input_mask, segment_ids], outputs=out)\n",
        "    model.compile(Adam(lr=1e-5), loss='binary_crossentropy', metrics=['accuracy'])\n",
        "    \n",
        "    return model"
      ],
      "execution_count": 5,
      "outputs": []
    },
    {
      "cell_type": "code",
      "metadata": {
        "trusted": true,
        "id": "8AFUY8vXbDEr",
        "colab": {
          "base_uri": "https://localhost:8080/"
        },
        "outputId": "12298ed8-7ae9-406c-e087-47afc4d49716"
      },
      "source": [
        "%%time\n",
        "module_url = \"https://tfhub.dev/tensorflow/bert_en_uncased_L-12_H-768_A-12/1\"\n",
        "bert_layer = hub.KerasLayer(module_url, trainable=True)"
      ],
      "execution_count": 23,
      "outputs": [
        {
          "output_type": "stream",
          "text": [
            "CPU times: user 5.66 s, sys: 878 ms, total: 6.54 s\n",
            "Wall time: 6.29 s\n"
          ],
          "name": "stdout"
        }
      ]
    },
    {
      "cell_type": "code",
      "metadata": {
        "id": "rSgGRuvBcXMR",
        "colab": {
          "base_uri": "https://localhost:8080/"
        },
        "outputId": "f9930672-f091-4044-aaaa-64d1d2973640"
      },
      "source": [
        "from google.colab import drive\n",
        "drive.mount('/content/drive')"
      ],
      "execution_count": 7,
      "outputs": [
        {
          "output_type": "stream",
          "text": [
            "Drive already mounted at /content/drive; to attempt to forcibly remount, call drive.mount(\"/content/drive\", force_remount=True).\n"
          ],
          "name": "stdout"
        }
      ]
    },
    {
      "cell_type": "code",
      "metadata": {
        "id": "M195v8mScdju",
        "colab": {
          "base_uri": "https://localhost:8080/"
        },
        "outputId": "136ce2b4-f6e6-4c27-f75f-3e56a7647d06"
      },
      "source": [
        "!ls '/content/drive/My Drive/boaz_study/miniproj'"
      ],
      "execution_count": 8,
      "outputs": [
        {
          "output_type": "stream",
          "text": [
            "'한겨레_1차 전처리.csv'       'BERT Model.ipynb'\n",
            "'동아일보_1차 전처리.csv'     '중앙일보 미니프로젝트 데이터(전처리 ver_1).csv'\n",
            "'1차 전처리 데이터 종합.csv'  '경향신문 미니프로젝트 데이터(전처리 ver_1).csv'\n"
          ],
          "name": "stdout"
        }
      ]
    },
    {
      "cell_type": "code",
      "metadata": {
        "trusted": true,
        "id": "yYu7n0ZLbDEu"
      },
      "source": [
        "data = pd.read_csv('/content/drive/My Drive/boaz_study/miniproj/1차 전처리 데이터 종합.csv')"
      ],
      "execution_count": 9,
      "outputs": []
    },
    {
      "cell_type": "code",
      "metadata": {
        "id": "Z05vQ6al3lb2",
        "colab": {
          "base_uri": "https://localhost:8080/"
        },
        "outputId": "eee7a380-c3c6-4948-89bf-c5a666fd2e46"
      },
      "source": [
        "data.isnull().sum()"
      ],
      "execution_count": 10,
      "outputs": [
        {
          "output_type": "execute_result",
          "data": {
            "text/plain": [
              "기사 제목      0\n",
              "기사 내용    186\n",
              "label      0\n",
              "dtype: int64"
            ]
          },
          "metadata": {
            "tags": []
          },
          "execution_count": 10
        }
      ]
    },
    {
      "cell_type": "code",
      "metadata": {
        "id": "-eccp6FuzyyA",
        "colab": {
          "base_uri": "https://localhost:8080/",
          "height": 204
        },
        "outputId": "add2dcfc-c5d7-4359-f356-1358502a3476"
      },
      "source": [
        "data.head()"
      ],
      "execution_count": 11,
      "outputs": [
        {
          "output_type": "execute_result",
          "data": {
            "text/html": [
              "<div>\n",
              "<style scoped>\n",
              "    .dataframe tbody tr th:only-of-type {\n",
              "        vertical-align: middle;\n",
              "    }\n",
              "\n",
              "    .dataframe tbody tr th {\n",
              "        vertical-align: top;\n",
              "    }\n",
              "\n",
              "    .dataframe thead th {\n",
              "        text-align: right;\n",
              "    }\n",
              "</style>\n",
              "<table border=\"1\" class=\"dataframe\">\n",
              "  <thead>\n",
              "    <tr style=\"text-align: right;\">\n",
              "      <th></th>\n",
              "      <th>기사 제목</th>\n",
              "      <th>기사 내용</th>\n",
              "      <th>label</th>\n",
              "    </tr>\n",
              "  </thead>\n",
              "  <tbody>\n",
              "    <tr>\n",
              "      <th>0</th>\n",
              "      <td>하태경   임을 위한 행진곡 은 민주주의 한류   보수가 앞장서서 수출해야</td>\n",
              "      <td>하태경 미래통합당 의원이 18일   임을 위한 행진곡 은 자랑스러운 민주주의 한류로...</td>\n",
              "      <td>0</td>\n",
              "    </tr>\n",
              "    <tr>\n",
              "      <th>1</th>\n",
              "      <td>단독 여야  과거사법  배상 조항  빼기로 합의    20일 마무리 본회의서 민생...</td>\n",
              "      <td>여야가 20대 국회 마지막 본회의를 오는 20일에 열고 코로나19 대응 관련 법안과...</td>\n",
              "      <td>0</td>\n",
              "    </tr>\n",
              "    <tr>\n",
              "      <th>2</th>\n",
              "      <td>정총리  5 18의 실체적 진실  역사의 심판대 위에 올려야</td>\n",
              "      <td>정세균 국무총리는 18일  아직 숨겨진 5 18민주화운동의 실체적 진실을 역사의 심...</td>\n",
              "      <td>0</td>\n",
              "    </tr>\n",
              "    <tr>\n",
              "      <th>3</th>\n",
              "      <td>정세균 총리  민주유공자 유족 가슴 아프게 하는 왜곡 폄훼 없어야</td>\n",
              "      <td>정세균 국무총리가 소설가 한강의 작품  소년이 온다 를 인용하면서 5 18 민주유공...</td>\n",
              "      <td>0</td>\n",
              "    </tr>\n",
              "    <tr>\n",
              "      <th>4</th>\n",
              "      <td>광주 간 잠룡들</td>\n",
              "      <td>김부겸  보수가 좋아 찍었다고 하는 게 나아  지역감정 비판유승민  보수 5 18 ...</td>\n",
              "      <td>0</td>\n",
              "    </tr>\n",
              "  </tbody>\n",
              "</table>\n",
              "</div>"
            ],
            "text/plain": [
              "                                               기사 제목  ... label\n",
              "0         하태경   임을 위한 행진곡 은 민주주의 한류   보수가 앞장서서 수출해야   ...     0\n",
              "1   단독 여야  과거사법  배상 조항  빼기로 합의    20일 마무리 본회의서 민생...  ...     0\n",
              "2                 정총리  5 18의 실체적 진실  역사의 심판대 위에 올려야   ...     0\n",
              "3              정세균 총리  민주유공자 유족 가슴 아프게 하는 왜곡 폄훼 없어야   ...     0\n",
              "4                                           광주 간 잠룡들  ...     0\n",
              "\n",
              "[5 rows x 3 columns]"
            ]
          },
          "metadata": {
            "tags": []
          },
          "execution_count": 11
        }
      ]
    },
    {
      "cell_type": "code",
      "metadata": {
        "id": "S0RyQ3KZy74m"
      },
      "source": [
        "data = data.sample(frac = 1)\n",
        "data.reset_index(drop = True, inplace = True)"
      ],
      "execution_count": 12,
      "outputs": []
    },
    {
      "cell_type": "code",
      "metadata": {
        "id": "HcYVSVGIp02O"
      },
      "source": [
        "train = data.iloc[:80000]\n",
        "test = data.iloc[80000:]"
      ],
      "execution_count": 13,
      "outputs": []
    },
    {
      "cell_type": "code",
      "metadata": {
        "colab": {
          "base_uri": "https://localhost:8080/"
        },
        "id": "ZMENZ6Ofyw1e",
        "outputId": "d319200a-6ce9-4aae-af17-42703e889d26"
      },
      "source": [
        "train['label'].value_counts()"
      ],
      "execution_count": 14,
      "outputs": [
        {
          "output_type": "execute_result",
          "data": {
            "text/plain": [
              "1    45898\n",
              "0    34102\n",
              "Name: label, dtype: int64"
            ]
          },
          "metadata": {
            "tags": []
          },
          "execution_count": 14
        }
      ]
    },
    {
      "cell_type": "code",
      "metadata": {
        "id": "2ofX95nn3cfa",
        "colab": {
          "base_uri": "https://localhost:8080/"
        },
        "outputId": "a82183bf-1bf4-4f2d-f151-9f37a606cb26"
      },
      "source": [
        "train[\"기사 제목\"] = train[\"기사 제목\"].astype(\"string\")\n",
        "test[\"기사 제목\"] = test[\"기사 제목\"].astype(\"string\")"
      ],
      "execution_count": 15,
      "outputs": [
        {
          "output_type": "stream",
          "text": [
            "/usr/local/lib/python3.7/dist-packages/ipykernel_launcher.py:1: SettingWithCopyWarning: \n",
            "A value is trying to be set on a copy of a slice from a DataFrame.\n",
            "Try using .loc[row_indexer,col_indexer] = value instead\n",
            "\n",
            "See the caveats in the documentation: https://pandas.pydata.org/pandas-docs/stable/user_guide/indexing.html#returning-a-view-versus-a-copy\n",
            "  \"\"\"Entry point for launching an IPython kernel.\n",
            "/usr/local/lib/python3.7/dist-packages/ipykernel_launcher.py:2: SettingWithCopyWarning: \n",
            "A value is trying to be set on a copy of a slice from a DataFrame.\n",
            "Try using .loc[row_indexer,col_indexer] = value instead\n",
            "\n",
            "See the caveats in the documentation: https://pandas.pydata.org/pandas-docs/stable/user_guide/indexing.html#returning-a-view-versus-a-copy\n",
            "  \n"
          ],
          "name": "stderr"
        }
      ]
    },
    {
      "cell_type": "code",
      "metadata": {
        "id": "tfajXmWYdFIT"
      },
      "source": [
        "from sklearn.model_selection import train_test_split\n",
        "from sklearn import metrics\n",
        "\n",
        "train_labels = train[\"label\"]\n",
        "test_labels = test[\"label\"]\n",
        "\n",
        "train = train.drop(\"label\", axis = 1)\n",
        "test = test.drop(\"label\", axis = 1)"
      ],
      "execution_count": 16,
      "outputs": []
    },
    {
      "cell_type": "code",
      "metadata": {
        "trusted": true,
        "id": "DxDV2IsTbDEz"
      },
      "source": [
        "vocab_file = bert_layer.resolved_object.vocab_file.asset_path.numpy()\n",
        "do_lower_case = bert_layer.resolved_object.do_lower_case.numpy()\n",
        "tokenizer = tokenization.FullTokenizer(vocab_file, do_lower_case)"
      ],
      "execution_count": null,
      "outputs": []
    },
    {
      "cell_type": "code",
      "metadata": {
        "trusted": true,
        "id": "G2zwhspubDE1"
      },
      "source": [
        "train_input = bert_encode(train[\"기사 제목\"].values, tokenizer, max_len=128)\n",
        "test_input = bert_encode(test[\"기사 제목\"].values, tokenizer, max_len=128)"
      ],
      "execution_count": 18,
      "outputs": []
    },
    {
      "cell_type": "markdown",
      "metadata": {
        "id": "Niuojn9BbDE2"
      },
      "source": [
        "# Model: Build, Train, Predict, Submit"
      ]
    },
    {
      "cell_type": "code",
      "metadata": {
        "trusted": true,
        "id": "HUbjlOlCbDE3",
        "colab": {
          "base_uri": "https://localhost:8080/"
        },
        "outputId": "4e8b0c4e-cb38-445a-c273-ccd99ce592a3"
      },
      "source": [
        "model = build_model(bert_layer, max_len=128)\n",
        "model.summary()"
      ],
      "execution_count": 24,
      "outputs": [
        {
          "output_type": "stream",
          "text": [
            "Model: \"model\"\n",
            "__________________________________________________________________________________________________\n",
            "Layer (type)                    Output Shape         Param #     Connected to                     \n",
            "==================================================================================================\n",
            "input_word_ids (InputLayer)     [(None, 128)]        0                                            \n",
            "__________________________________________________________________________________________________\n",
            "input_mask (InputLayer)         [(None, 128)]        0                                            \n",
            "__________________________________________________________________________________________________\n",
            "segment_ids (InputLayer)        [(None, 128)]        0                                            \n",
            "__________________________________________________________________________________________________\n",
            "keras_layer_2 (KerasLayer)      [(None, 768), (None, 109482241   input_word_ids[0][0]             \n",
            "                                                                 input_mask[0][0]                 \n",
            "                                                                 segment_ids[0][0]                \n",
            "__________________________________________________________________________________________________\n",
            "tf.__operators__.getitem (Slici (None, 768)          0           keras_layer_2[0][1]              \n",
            "__________________________________________________________________________________________________\n",
            "dense (Dense)                   (None, 1)            769         tf.__operators__.getitem[0][0]   \n",
            "==================================================================================================\n",
            "Total params: 109,483,010\n",
            "Trainable params: 109,483,009\n",
            "Non-trainable params: 1\n",
            "__________________________________________________________________________________________________\n"
          ],
          "name": "stdout"
        }
      ]
    },
    {
      "cell_type": "code",
      "metadata": {
        "trusted": true,
        "id": "vXssFG8_bDE5",
        "colab": {
          "base_uri": "https://localhost:8080/"
        },
        "outputId": "5057073b-27b3-4bf1-ce0d-4772f69420aa"
      },
      "source": [
        " checkpoint = ModelCheckpoint('model.h5', monitor='val_loss', save_best_only=True)\n",
        "\n",
        "train_history = model.fit(\n",
        "    train_input, train_labels,\n",
        "    validation_split=0.3,\n",
        "    epochs=5,\n",
        "    callbacks=[checkpoint],\n",
        "    batch_size=16\n",
        ")"
      ],
      "execution_count": 25,
      "outputs": [
        {
          "output_type": "stream",
          "text": [
            "Epoch 1/5\n",
            "3500/3500 [==============================] - 565s 156ms/step - loss: 0.5473 - accuracy: 0.7039 - val_loss: 0.4904 - val_accuracy: 0.7527\n",
            "Epoch 2/5\n",
            "3500/3500 [==============================] - 557s 159ms/step - loss: 0.4430 - accuracy: 0.7822 - val_loss: 0.4544 - val_accuracy: 0.7712\n",
            "Epoch 3/5\n",
            "3500/3500 [==============================] - 558s 160ms/step - loss: 0.3809 - accuracy: 0.8189 - val_loss: 0.4522 - val_accuracy: 0.7807\n",
            "Epoch 4/5\n",
            "3500/3500 [==============================] - 554s 158ms/step - loss: 0.2835 - accuracy: 0.8711 - val_loss: 0.4977 - val_accuracy: 0.7772\n",
            "Epoch 5/5\n",
            "3500/3500 [==============================] - 559s 160ms/step - loss: 0.1676 - accuracy: 0.9296 - val_loss: 0.6646 - val_accuracy: 0.7746\n"
          ],
          "name": "stdout"
        }
      ]
    },
    {
      "cell_type": "code",
      "metadata": {
        "trusted": true,
        "id": "IqUX3keabDE7",
        "colab": {
          "base_uri": "https://localhost:8080/"
        },
        "outputId": "fd9ff351-35a6-4ff4-b751-c5a4f907418d"
      },
      "source": [
        "model.load_weights('model.h5')\n",
        "model.evaluate(test_input, test_labels, batch_size = 16)"
      ],
      "execution_count": 26,
      "outputs": [
        {
          "output_type": "stream",
          "text": [
            "1540/1540 [==============================] - 83s 53ms/step - loss: 0.4623 - accuracy: 0.7785\n"
          ],
          "name": "stdout"
        },
        {
          "output_type": "execute_result",
          "data": {
            "text/plain": [
              "[0.46226948499679565, 0.7785264849662781]"
            ]
          },
          "metadata": {
            "tags": []
          },
          "execution_count": 26
        }
      ]
    }
  ]
}